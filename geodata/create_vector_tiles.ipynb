{
 "cells": [
  {
   "cell_type": "markdown",
   "metadata": {},
   "source": [
    "# Script to create vector tiles for direct usage in LPVIS\n",
    "- Input: AMA produced shapefiles with parcels and physical blocks downloaded from https://www.data.gv.at/katalog/dataset/invekos-schlaege-oesterreich/resource/26e5b6c4-6e47-45d3-ac65-728c631fd515 and https://www.data.gv.at/katalog/dataset/invekos-referenzen-oesterreich/resource/e883c5d0-ea79-44be-b789-d8bd6a3389e3, bounding box\n",
    "- Output: zoom 14-16 uncompressed pbf vector tiles used in LPvis in two folders wrapped in .tar.gz\n",
    "These should be manually moved to LPvis local folder and committed to GitHub."
   ]
  },
  {
   "cell_type": "code",
   "execution_count": null,
   "metadata": {},
   "outputs": [],
   "source": [
    "from shapely.geometry import Polygon\n",
    "import re, time, progressbar\n",
    "import pandas as pd\n",
    "import geopandas as gpd\n",
    "from pyproj import Proj, transform\n",
    "import subprocess, os\n",
    "# Needs `tippecanoe` installed"
   ]
  },
  {
   "cell_type": "code",
   "execution_count": null,
   "metadata": {},
   "outputs": [],
   "source": [
    "# Modify input/output/bbox as necessary\n",
    "bbox = [15.4, 48.54, 15.96, 48.92]\n",
    "input_parcels_file = '/home/lubomir/lpis-data-at/invekos_schlaege_polygon.shp'\n",
    "input_blocks_file = '/home/lubomir/lpis-data-at/invekos_referenzen_polygon.shp'\n",
    "output_parcels_file = 'data/agricultural_parcels.gpkg'\n",
    "output_physical_blocks_file = 'data/physical_blocks.gpkg'\n",
    "parcels_directory = 'agricultural_parcels'\n",
    "blocks_directory = 'physical_blocks'\n"
   ]
  },
  {
   "cell_type": "code",
   "execution_count": null,
   "metadata": {},
   "outputs": [],
   "source": [
    "print('Reading data parcels')\n",
    "gdf = gpd.read_file(input_parcels_file)"
   ]
  },
  {
   "cell_type": "code",
   "execution_count": null,
   "metadata": {},
   "outputs": [],
   "source": [
    "inProj = Proj('epsg:4326')\n",
    "outProj = Proj(gdf.crs['init'])\n",
    "# switched order of x,y on purpose\n",
    "y1_t,x1_t = transform(inProj,outProj,bbox[1],bbox[0])\n",
    "y2_t,x2_t = transform(inProj,outProj,bbox[3],bbox[2])"
   ]
  },
  {
   "cell_type": "code",
   "execution_count": null,
   "metadata": {},
   "outputs": [],
   "source": [
    "print('Performing spatial subset')\n",
    "spatial_subset = gdf.cx[x1_t:x2_t, y1_t:y2_t]\n",
    "print('Converting to mercator for tippecanoe')\n",
    "spatial_subset_m = spatial_subset.to_crs('epsg:4326')"
   ]
  },
  {
   "cell_type": "code",
   "execution_count": null,
   "metadata": {},
   "outputs": [],
   "source": [
    "# variable substitution / classification group merging when creating vector tiles for eurodatacube/LPVIS \n",
    "def replace_umlauts(s):\n",
    "    s = re.sub(r\"(\\b|[^AEIOU])AE\", r'\\1Ä', s)\n",
    "    s = re.sub(r\"(\\b|[^AEIOU])OE\", r'\\1Ö', s)\n",
    "    s = re.sub(r\"(\\b|[^AEIOU])UE\", r'\\1Ü', s)\n",
    "    return s\n",
    "print('Merging with classification groups from xls file')\n",
    "renamed = spatial_subset_m.rename(columns={'SNAR_BEZEI':'CT'})\n",
    "\n",
    "lut = pd.read_excel('data/2_LUT_list_Version2_20190724.xlsx')\n",
    "lut.CT = lut.CT.apply(replace_umlauts)\n",
    "\n",
    "merged = renamed.merge(lut, how='left', on='CT')\n",
    "\n",
    "final_data = merged[['ID', 'Ctnum','FS_KENNUNG','CTnumL4A', 'CT', 'SL_FLAECHE', 'geometry']]\n",
    "try:\n",
    "    print('Deleting output gpkg file, to not append.')\n",
    "    os.unlink(output_parcels_file)\n",
    "except:\n",
    "    pass\n",
    "final_data.to_file(output_parcels_file, driver=\"GPKG\")\n",
    "print('Data successfully written!')"
   ]
  },
  {
   "cell_type": "code",
   "execution_count": null,
   "metadata": {},
   "outputs": [],
   "source": [
    "print('Creating vector tiles')\n",
    "\n",
    "fio = subprocess.Popen(('fio', 'cat', output_parcels_file), stdout=subprocess.PIPE)\n",
    "tippecanoe = subprocess.check_output(('tippecanoe', '--output-to-directory=%s' % parcels_directory, \n",
    "                              '--drop-densest-as-needed', '--read-parallel', '--minimum-zoom=14', \n",
    "                              '--maximum-zoom=16', '-l', 'agricultural_parcels', '-f', '--no-tile-compression'), stdin=fio.stdout)\n",
    "fio.wait()"
   ]
  },
  {
   "cell_type": "code",
   "execution_count": null,
   "metadata": {},
   "outputs": [],
   "source": [
    "print('Reading data physical')\n",
    "gdf = gpd.read_file(input_blocks_file)"
   ]
  },
  {
   "cell_type": "code",
   "execution_count": null,
   "metadata": {},
   "outputs": [],
   "source": [
    "print('Performing spatial subset')\n",
    "spatial_subset = gdf.cx[x1_t:x2_t, y1_t:y2_t]\n",
    "print('Converting to mercator for tippecanoe')\n",
    "spatial_subset_m = spatial_subset.to_crs('epsg:4326')"
   ]
  },
  {
   "cell_type": "code",
   "execution_count": null,
   "metadata": {},
   "outputs": [],
   "source": [
    "try:\n",
    "    print('Deleting output gpkg file, to not append.')\n",
    "    os.unlink(output_physical_blocks_file)\n",
    "except:\n",
    "    pass\n",
    "spatial_subset_m.to_file(output_physical_blocks_file, driver=\"GPKG\")\n",
    "print('Data successfully written!')"
   ]
  },
  {
   "cell_type": "code",
   "execution_count": null,
   "metadata": {},
   "outputs": [],
   "source": [
    "print('Creating vector tiles')\n",
    "\n",
    "fio = subprocess.Popen(('fio', 'cat', output_physical_blocks_file), stdout=subprocess.PIPE)\n",
    "tippecanoe = subprocess.check_output(('tippecanoe', '--output-to-directory=%s' % blocks_directory, \n",
    "                              '--drop-densest-as-needed', '--read-parallel', '--minimum-zoom=14', \n",
    "                              '--maximum-zoom=16', '-l', 'physical_blocks', '-f', '--no-tile-compression'), stdin=fio.stdout)\n",
    "fio.wait()"
   ]
  },
  {
   "cell_type": "code",
   "execution_count": null,
   "metadata": {},
   "outputs": [],
   "source": [
    "# for LPvis repository, the files are stored as compressed archive for storage reasons\n",
    "for tile_dir in [parcels_directory, blocks_directory]:\n",
    "    tar = subprocess.run(['tar', '-czvf', '%s.tar.gz' % tile_dir, tile_dir])"
   ]
  }
 ],
 "metadata": {
  "kernelspec": {
   "display_name": "Python 3",
   "language": "python",
   "name": "python3"
  },
  "language_info": {
   "codemirror_mode": {
    "name": "ipython",
    "version": 3
   },
   "file_extension": ".py",
   "mimetype": "text/x-python",
   "name": "python",
   "nbconvert_exporter": "python",
   "pygments_lexer": "ipython3",
   "version": "3.6.9"
  }
 },
 "nbformat": 4,
 "nbformat_minor": 2
}
